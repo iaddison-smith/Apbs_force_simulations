{
 "cells": [
  {
   "cell_type": "markdown",
   "metadata": {},
   "source": [
    "# An accurate boundary-integral formulation for the calculation of electrostatic forces with an implicit-solvent model"
   ]
  },
  {
   "cell_type": "markdown",
   "metadata": {},
   "source": [
    "### Import libraries"
   ]
  },
  {
   "cell_type": "code",
   "execution_count": 1,
   "metadata": {},
   "outputs": [],
   "source": [
    "import os\n",
    "import numpy as np\n",
    "import pbj  # "
   ]
  },
  {
   "cell_type": "markdown",
   "metadata": {},
   "source": [
    "### Import custom-functions "
   ]
  },
  {
   "cell_type": "code",
   "execution_count": 2,
   "metadata": {},
   "outputs": [],
   "source": [
    "#magnitud of a vector numpy\n",
    "def mag(v):\n",
    "    return np.sqrt(np.dot(v, v))\n",
    "\n",
    "#Translation pqr\n",
    "def pqr_translate(directory, protein_pqr, distance):\n",
    "    'Translate along distance vector the protein .pqr file'\n",
    "\n",
    "    protein_pqr_d = protein_pqr + '_d' + str(distance[2]) #new name with z-distance\n",
    "    mesh_pqr_path = '{}/{}.pqr'.format(directory,protein_pqr)\n",
    "    mesh_pqr_path_out = '{}/{}.pqr'.format(directory,protein_pqr_d)\n",
    "\n",
    "    pqr_file = open(mesh_pqr_path, 'r')\n",
    "    pqr_data = pqr_file.read().split('\\n')\n",
    "    pqr_t_file = open(mesh_pqr_path_out, 'w')\n",
    "    for line in pqr_data:\n",
    "        line = line.split()\n",
    "        if len(line) == 0 or line[0] != 'ATOM':\n",
    "            continue\n",
    "        tx,ty,tz = distance\n",
    "        x_new = float(line[5])+ float(tx)\n",
    "        y_new = float(line[6])+ float(ty)\n",
    "        z_new = float(line[7])+ float(tz)\n",
    "        text_template = '{} {}  {}   {} {}        {: 1.3f}  {: 1.3f}  {: 1.3f}  {}  {} \\n'\n",
    "        pqr_t_file.write(text_template.format(line[0],line[1],line[2],line[3],line[4],x_new,y_new,z_new,line[8],line[9]))\n",
    "\n",
    "    pqr_file.close() \n",
    "    pqr_t_file.close()\n",
    "\n",
    "    return None"
   ]
  },
  {
   "cell_type": "code",
   "execution_count": 20,
   "metadata": {},
   "outputs": [],
   "source": [
    "pqr_translate('/home/ianaddisonsmith/pbj/notebooks/tutorials/pqrs','1brs_BE_barstar',[0,0,1000])"
   ]
  },
  {
   "cell_type": "markdown",
   "metadata": {},
   "source": [
    "## Two centered-charge (2q) unit spheres"
   ]
  },
  {
   "cell_type": "markdown",
   "metadata": {},
   "source": [
    "### Simulation at several distances between centers "
   ]
  },
  {
   "cell_type": "code",
   "execution_count": 3,
   "metadata": {},
   "outputs": [
    {
     "name": "stdout",
     "output_type": "stream",
     "text": [
      "-----------------------------------\n",
      "Distance: 3 A\n",
      "C:\\Users\\ianad\\Desktop\\paper_PBforces\\pbj\\mesh\\ExternalSoftware\\MSMS\\msms.exe -if c:\\Users\\ianad\\Desktop\\paper_PBforces\\mesh_temp\\sphere_point_r1q2.xyzr -of c:\\Users\\ianad\\Desktop\\paper_PBforces\\mesh_temp\\sphere_point_r1q2 -p 1.4 -d 16 -no_header\n",
      "C:\\Users\\ianad\\Desktop\\paper_PBforces\\pbj\\mesh\\ExternalSoftware\\MSMS\\msms.exe -if c:\\Users\\ianad\\Desktop\\paper_PBforces\\mesh_temp\\sphere_point_r1q2.xyzr -of c:\\Users\\ianad\\Desktop\\paper_PBforces\\mesh_temp\\sphere_point_r1q2 -p 1.4 -d 16 -no_header\n",
      "C:\\Users\\ianad\\Desktop\\paper_PBforces\\pbj\\mesh\\ExternalSoftware\\MSMS\\msms.exe -if c:\\Users\\ianad\\Desktop\\paper_PBforces\\mesh_temp\\sphere_point_r1q2_d3.xyzr -of c:\\Users\\ianad\\Desktop\\paper_PBforces\\mesh_temp\\sphere_point_r1q2_d3 -p 1.4 -d 16 -no_header\n",
      "Dielectric approx formulation\n",
      "[-1.86193785e+00  3.41152215e-02  1.42122382e-04]\n",
      "[1.86193705e+00 3.41152965e-02 1.42272985e-04]\n",
      "Dielectric exact formulation\n",
      "[-1.94353017e+00  3.45402637e-02  1.51437632e-04]\n",
      "[1.94353006e+00 3.45405172e-02 1.52008718e-04]\n",
      "Maxwell tensor formulation\n",
      "[-1.93520165e+00 -1.69241416e-03 -2.23987443e-05]\n",
      "[ 1.93520172e+00 -1.69215483e-03 -2.18727820e-05]\n"
     ]
    }
   ],
   "source": [
    "dist_sim = [3]\n",
    "for dist in dist_sim:\n",
    "    print('-----------------------------------')\n",
    "    print('Distance: %d A'%(dist))\n",
    "\n",
    "    #Solvation energy alone\n",
    "    simulation = pbj.electrostatics.Simulation(formulation='direct')\n",
    "    protein = pbj.electrostatics.Solute(\"pqrs//sphere_point_r1q2.pqr\", mesh_density=16, mesh_generator=\"msms\")\n",
    "    simulation.add_solute(protein)\n",
    "    simulation.calculate_solvation_energy()\n",
    "    solv_energy_alone = protein.results['solvation_energy']\n",
    "\n",
    "    #Solvation energy complex\n",
    "    simulation = pbj.electrostatics.Simulation(formulation='direct')\n",
    "    protein = pbj.electrostatics.Solute(\"pqrs//sphere_point_r1q2.pqr\", mesh_density=16, mesh_generator=\"msms\")\n",
    "    protein2 = pbj.electrostatics.Solute(\"pqrs//sphere_point_r1q2_d%d.pqr\"%(dist), mesh_density=16, mesh_generator=\"msms\")\n",
    "    simulation.add_solute(protein)\n",
    "    simulation.add_solute(protein2)\n",
    "    simulation.calculate_solvation_energy()\n",
    "    solv_energy_complex = protein.results['solvation_energy'] + protein2.results['solvation_energy']\n",
    "    solv_energy_binding = solv_energy_complex - 2*solv_energy_alone\n",
    "\n",
    "    #Forces calculation   \n",
    "    print('Dielectric approx formulation')\n",
    "    simulation.calculate_solvation_forces(force_formulation='energy_functional', fdb_approx=True)\n",
    "    f_solv_full_app = protein2.results['f_solv']\n",
    "    fdb_app = protein2.results['f_db']\n",
    "    print(protein.results['f_solv'])\n",
    "    print(protein2.results['f_solv'])\n",
    "\n",
    "    print('Dielectric exact formulation')\n",
    "    simulation.calculate_solvation_forces(force_formulation='energy_functional', fdb_approx=False)\n",
    "    f_solv_full_ex = protein2.results['f_solv']\n",
    "    print(protein.results['f_solv'])\n",
    "    print(protein2.results['f_solv'])\n",
    "\n",
    "    print('Maxwell tensor formulation')\n",
    "    simulation.calculate_solvation_forces(force_formulation='maxwell_tensor')\n",
    "    f_solv_fast = protein2.results['f_solv']\n",
    "    print(protein.results['f_solv'])\n",
    "    print(protein2.results['f_solv'])"
   ]
  },
  {
   "cell_type": "code",
   "execution_count": 4,
   "metadata": {},
   "outputs": [],
   "source": [
    "from bempp.api.assembly.blocked_operator import (\n",
    "        grid_function_list_from_coefficients,\n",
    "    )\n",
    "phi2 = grid_function_list_from_coefficients(\n",
    "        (protein.results['phi'].evaluate_on_element_centers()[0]**2)*protein.mesh.volumes.ravel(), [protein.matrices['A'].domain_spaces[0]])\n",
    "d_phi2 = grid_function_list_from_coefficients(\n",
    "        (protein.results['d_phi'].evaluate_on_element_centers()[0]**2)*protein.mesh.volumes.ravel(), [protein.matrices['A'].domain_spaces[1]])\n",
    "P_normal_mag = grid_function_list_from_coefficients(\n",
    "        protein.results['P_normal'], [protein.matrices['A'].domain_spaces[1]])[0]\n",
    "\n",
    "import bempp.api\n",
    "bempp.api.PLOT_BACKEND = \"gmsh\"\n",
    "to_kcalmolA = 4*np.pi*332.0636817823836\n",
    "f_db = to_kcalmolA*-0.5*(protein.ep_ex-protein.ep_in)*(protein.ep_in/protein.ep_ex)*d_phi2[0]\n",
    "f_ib = to_kcalmolA*-0.5*protein.kappa*protein.ep_ex*phi2[0]"
   ]
  },
  {
   "cell_type": "code",
   "execution_count": 24,
   "metadata": {},
   "outputs": [],
   "source": [
    "bempp.api.export('msh/P_normal.msh', grid_function=P_normal_mag,data_type='node')\n",
    "bempp.api.export('msh/f_db.msh', grid_function=f_db,data_type='node')\n",
    "bempp.api.export('msh/f_ib.msh', grid_function=f_ib,data_type='node')\n",
    "bempp.api.export('msh/phi.msh', grid_function=protein.results['phi'],data_type='node')\n",
    "bempp.api.export('msh/d_phi.msh', grid_function=protein.results['d_phi'],data_type='node')"
   ]
  }
 ],
 "metadata": {
  "kernelspec": {
   "display_name": "Python 3.10.2 ('pbj')",
   "language": "python",
   "name": "python3"
  },
  "language_info": {
   "codemirror_mode": {
    "name": "ipython",
    "version": 3
   },
   "file_extension": ".py",
   "mimetype": "text/x-python",
   "name": "python",
   "nbconvert_exporter": "python",
   "pygments_lexer": "ipython3",
   "version": "3.10.2 | packaged by conda-forge | (main, Mar  8 2022, 15:52:24) [MSC v.1929 64 bit (AMD64)]"
  },
  "vscode": {
   "interpreter": {
    "hash": "b860ab611d2cd0f47e221891b8d343e8d915e9fe3ae5f680d08834b6943b8b45"
   }
  }
 },
 "nbformat": 4,
 "nbformat_minor": 2
}
